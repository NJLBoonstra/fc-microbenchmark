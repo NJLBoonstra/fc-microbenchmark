{
 "cells": [
  {
   "cell_type": "code",
   "execution_count": 4,
   "metadata": {},
   "outputs": [],
   "source": [
    "from os import path, listdir\n",
    "\n",
    "import matplotlib as plt\n",
    "import pandas as pd\n",
    "\n",
    "from process_results import recursive_file_search\n",
    "\n",
    "RESULTS_DIR = path.abspath(\"../results\")"
   ]
  },
  {
   "cell_type": "code",
   "execution_count": 27,
   "metadata": {},
   "outputs": [
    {
     "data": {
      "text/plain": [
       "['/home/niels/fc-microbenchmark/results/RRc5n/002/processed-results-poisson-25000-1hr-mem.txt',\n",
       " '/home/niels/fc-microbenchmark/results/RRc5n/001/processed-results-poisson-50000-1hr-cpu.txt',\n",
       " '/home/niels/fc-microbenchmark/results/RRc5n/003/processed-results-poisson-12500-1hr-mem.txt',\n",
       " '/home/niels/fc-microbenchmark/results/RRc5n/004/processed-results-poisson-25000-1hr-75cpu25mem.txt',\n",
       " '/home/niels/fc-microbenchmark/results/CFSc5n/002/processed-results-poisson-25000-1hr-mem.txt',\n",
       " '/home/niels/fc-microbenchmark/results/CFSc5n/001/processed-results-poisson-50000-1hr-mem.txt',\n",
       " '/home/niels/fc-microbenchmark/results/CFSc5n/001/processed-results-poisson-50000-1hr-cpu.txt',\n",
       " '/home/niels/fc-microbenchmark/results/CFSc5n/003/processed-results-poisson-12500-1hr-mem.txt',\n",
       " '/home/niels/fc-microbenchmark/results/CFSc5n/004/processed-results-poisson-25000-1hr-75cpu25mem.txt',\n",
       " '/home/niels/fc-microbenchmark/results/BATCHc5n/002/processed-results-poisson-12500-1hr-mem.txt',\n",
       " '/home/niels/fc-microbenchmark/results/BATCHc5n/001/processed-results-poisson-50000-1hr-cpu.txt',\n",
       " '/home/niels/fc-microbenchmark/results/BATCHc5n/001/processed-results-poisson-25000-1hr-mem.txt',\n",
       " '/home/niels/fc-microbenchmark/results/BATCHc5n/003/processed-results-poisson-25000-1hr-75cpu25mem.txt',\n",
       " '/home/niels/fc-microbenchmark/results/FIFOc5n/002/processed-results-poisson-12500-1hr-mem.txt',\n",
       " '/home/niels/fc-microbenchmark/results/FIFOc5n/001/processed-results-poisson-50000-1hr-mem.txt',\n",
       " '/home/niels/fc-microbenchmark/results/FIFOc5n/001/processed-results-poisson-50000-1hr-cpu.txt',\n",
       " '/home/niels/fc-microbenchmark/results/FIFOc5n/003/processed-results-poisson-25000-1hr-75cpu25mem.txt']"
      ]
     },
     "execution_count": 27,
     "metadata": {},
     "output_type": "execute_result"
    }
   ],
   "source": [
    "# Find all results\n",
    "result_filter = lambda x: \"processed-\" in x\n",
    "\n",
    "all_results = list(recursive_file_search(RESULTS_DIR, result_filter))\n",
    "result_prefix = path.commonprefix(c5n_results)\n",
    "\n",
    "# Find all c5n directories\n",
    "c5n_filter = lambda x: \"c5n\" in x and \"predictions-\" not in x\n",
    "c5n_results = list(filter(c5n_filter, all_results))\n",
    "\n",
    "\n",
    "\n",
    "c5n_results\n"
   ]
  },
  {
   "cell_type": "code",
   "execution_count": null,
   "metadata": {},
   "outputs": [],
   "source": []
  }
 ],
 "metadata": {
  "kernelspec": {
   "display_name": "Python 3",
   "language": "python",
   "name": "python3"
  },
  "language_info": {
   "codemirror_mode": {
    "name": "ipython",
    "version": 3
   },
   "file_extension": ".py",
   "mimetype": "text/x-python",
   "name": "python",
   "nbconvert_exporter": "python",
   "pygments_lexer": "ipython3",
   "version": "3.9.1"
  }
 },
 "nbformat": 4,
 "nbformat_minor": 4
}
